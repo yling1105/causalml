{
 "cells": [
  {
   "cell_type": "code",
   "execution_count": 1,
   "metadata": {},
   "outputs": [
    {
     "name": "stderr",
     "output_type": "stream",
     "text": [
      "/home/yling/.conda/envs/yling/lib/python3.7/site-packages/sklearn/utils/deprecation.py:143: FutureWarning: The sklearn.utils.testing module is  deprecated in version 0.22 and will be removed in version 0.24. The corresponding classes / functions should instead be imported from sklearn.utils. Anything that cannot be imported from sklearn.utils is now part of the private API.\n",
      "  warnings.warn(message, FutureWarning)\n"
     ]
    }
   ],
   "source": [
    "import pandas as pd\n",
    "import numpy as np\n",
    "from tree.models import UpliftRandomForestClassifier\n",
    "from tree.models import PMUpliftRandomForestClassifier\n",
    "from causalml.dataset import make_uplift_classification\n",
    "from sklearn.model_selection import train_test_split"
   ]
  },
  {
   "cell_type": "code",
   "execution_count": 2,
   "metadata": {},
   "outputs": [
    {
     "data": {
      "text/html": [
       "<div>\n",
       "<style scoped>\n",
       "    .dataframe tbody tr th:only-of-type {\n",
       "        vertical-align: middle;\n",
       "    }\n",
       "\n",
       "    .dataframe tbody tr th {\n",
       "        vertical-align: top;\n",
       "    }\n",
       "\n",
       "    .dataframe thead th {\n",
       "        text-align: right;\n",
       "    }\n",
       "</style>\n",
       "<table border=\"1\" class=\"dataframe\">\n",
       "  <thead>\n",
       "    <tr style=\"text-align: right;\">\n",
       "      <th></th>\n",
       "      <th>treatment_group_key</th>\n",
       "      <th>x1_informative</th>\n",
       "      <th>x2_informative</th>\n",
       "      <th>x3_informative</th>\n",
       "      <th>x4_informative</th>\n",
       "      <th>x5_informative</th>\n",
       "      <th>x6_irrelevant</th>\n",
       "      <th>x7_irrelevant</th>\n",
       "      <th>x8_irrelevant</th>\n",
       "      <th>x9_irrelevant</th>\n",
       "      <th>...</th>\n",
       "      <th>x12_uplift_increase</th>\n",
       "      <th>x13_increase_mix</th>\n",
       "      <th>x14_uplift_increase</th>\n",
       "      <th>x15_uplift_increase</th>\n",
       "      <th>x16_increase_mix</th>\n",
       "      <th>x17_uplift_increase</th>\n",
       "      <th>x18_uplift_increase</th>\n",
       "      <th>x19_increase_mix</th>\n",
       "      <th>conversion</th>\n",
       "      <th>treatment_effect</th>\n",
       "    </tr>\n",
       "  </thead>\n",
       "  <tbody>\n",
       "    <tr>\n",
       "      <th>0</th>\n",
       "      <td>control</td>\n",
       "      <td>-0.542888</td>\n",
       "      <td>1.976361</td>\n",
       "      <td>-0.531359</td>\n",
       "      <td>-2.354211</td>\n",
       "      <td>-0.380629</td>\n",
       "      <td>-2.614321</td>\n",
       "      <td>-0.128893</td>\n",
       "      <td>0.448689</td>\n",
       "      <td>-2.275192</td>\n",
       "      <td>...</td>\n",
       "      <td>-1.315304</td>\n",
       "      <td>0.742654</td>\n",
       "      <td>1.891699</td>\n",
       "      <td>-2.428395</td>\n",
       "      <td>1.541875</td>\n",
       "      <td>-0.817705</td>\n",
       "      <td>-0.610194</td>\n",
       "      <td>-0.591581</td>\n",
       "      <td>0</td>\n",
       "      <td>0</td>\n",
       "    </tr>\n",
       "    <tr>\n",
       "      <th>1</th>\n",
       "      <td>treatment3</td>\n",
       "      <td>0.258654</td>\n",
       "      <td>0.552412</td>\n",
       "      <td>1.434239</td>\n",
       "      <td>-1.422311</td>\n",
       "      <td>0.089131</td>\n",
       "      <td>0.790293</td>\n",
       "      <td>1.159513</td>\n",
       "      <td>1.578868</td>\n",
       "      <td>0.166540</td>\n",
       "      <td>...</td>\n",
       "      <td>-1.391878</td>\n",
       "      <td>-0.623243</td>\n",
       "      <td>2.443972</td>\n",
       "      <td>-2.889253</td>\n",
       "      <td>2.018585</td>\n",
       "      <td>-1.109296</td>\n",
       "      <td>-0.380362</td>\n",
       "      <td>-1.667606</td>\n",
       "      <td>0</td>\n",
       "      <td>0</td>\n",
       "    </tr>\n",
       "    <tr>\n",
       "      <th>2</th>\n",
       "      <td>treatment1</td>\n",
       "      <td>1.697012</td>\n",
       "      <td>-2.762600</td>\n",
       "      <td>-0.662874</td>\n",
       "      <td>-1.682340</td>\n",
       "      <td>1.217443</td>\n",
       "      <td>0.837982</td>\n",
       "      <td>1.042981</td>\n",
       "      <td>0.177398</td>\n",
       "      <td>-0.112409</td>\n",
       "      <td>...</td>\n",
       "      <td>-1.132497</td>\n",
       "      <td>1.050179</td>\n",
       "      <td>1.573054</td>\n",
       "      <td>-1.788427</td>\n",
       "      <td>1.341609</td>\n",
       "      <td>-0.749227</td>\n",
       "      <td>-2.091521</td>\n",
       "      <td>-0.471386</td>\n",
       "      <td>0</td>\n",
       "      <td>0</td>\n",
       "    </tr>\n",
       "    <tr>\n",
       "      <th>3</th>\n",
       "      <td>treatment2</td>\n",
       "      <td>-1.441644</td>\n",
       "      <td>1.823648</td>\n",
       "      <td>0.789423</td>\n",
       "      <td>-0.295398</td>\n",
       "      <td>0.718509</td>\n",
       "      <td>-0.492993</td>\n",
       "      <td>0.947824</td>\n",
       "      <td>-1.307887</td>\n",
       "      <td>0.123340</td>\n",
       "      <td>...</td>\n",
       "      <td>-2.084619</td>\n",
       "      <td>0.058481</td>\n",
       "      <td>1.369439</td>\n",
       "      <td>0.422538</td>\n",
       "      <td>1.087176</td>\n",
       "      <td>-0.966666</td>\n",
       "      <td>-1.785592</td>\n",
       "      <td>-1.268379</td>\n",
       "      <td>1</td>\n",
       "      <td>1</td>\n",
       "    </tr>\n",
       "    <tr>\n",
       "      <th>4</th>\n",
       "      <td>control</td>\n",
       "      <td>-0.625074</td>\n",
       "      <td>3.002388</td>\n",
       "      <td>-0.096288</td>\n",
       "      <td>1.938235</td>\n",
       "      <td>3.392424</td>\n",
       "      <td>-0.465860</td>\n",
       "      <td>-0.919897</td>\n",
       "      <td>-1.072592</td>\n",
       "      <td>-1.331181</td>\n",
       "      <td>...</td>\n",
       "      <td>-1.403984</td>\n",
       "      <td>0.760430</td>\n",
       "      <td>1.917635</td>\n",
       "      <td>-2.347675</td>\n",
       "      <td>1.560946</td>\n",
       "      <td>-0.833067</td>\n",
       "      <td>-1.407884</td>\n",
       "      <td>-0.781343</td>\n",
       "      <td>0</td>\n",
       "      <td>0</td>\n",
       "    </tr>\n",
       "  </tbody>\n",
       "</table>\n",
       "<p>5 rows × 22 columns</p>\n",
       "</div>"
      ],
      "text/plain": [
       "  treatment_group_key  x1_informative  x2_informative  x3_informative  \\\n",
       "0             control       -0.542888        1.976361       -0.531359   \n",
       "1          treatment3        0.258654        0.552412        1.434239   \n",
       "2          treatment1        1.697012       -2.762600       -0.662874   \n",
       "3          treatment2       -1.441644        1.823648        0.789423   \n",
       "4             control       -0.625074        3.002388       -0.096288   \n",
       "\n",
       "   x4_informative  x5_informative  x6_irrelevant  x7_irrelevant  \\\n",
       "0       -2.354211       -0.380629      -2.614321      -0.128893   \n",
       "1       -1.422311        0.089131       0.790293       1.159513   \n",
       "2       -1.682340        1.217443       0.837982       1.042981   \n",
       "3       -0.295398        0.718509      -0.492993       0.947824   \n",
       "4        1.938235        3.392424      -0.465860      -0.919897   \n",
       "\n",
       "   x8_irrelevant  x9_irrelevant  ...  x12_uplift_increase  x13_increase_mix  \\\n",
       "0       0.448689      -2.275192  ...            -1.315304          0.742654   \n",
       "1       1.578868       0.166540  ...            -1.391878         -0.623243   \n",
       "2       0.177398      -0.112409  ...            -1.132497          1.050179   \n",
       "3      -1.307887       0.123340  ...            -2.084619          0.058481   \n",
       "4      -1.072592      -1.331181  ...            -1.403984          0.760430   \n",
       "\n",
       "   x14_uplift_increase  x15_uplift_increase  x16_increase_mix  \\\n",
       "0             1.891699            -2.428395          1.541875   \n",
       "1             2.443972            -2.889253          2.018585   \n",
       "2             1.573054            -1.788427          1.341609   \n",
       "3             1.369439             0.422538          1.087176   \n",
       "4             1.917635            -2.347675          1.560946   \n",
       "\n",
       "   x17_uplift_increase  x18_uplift_increase  x19_increase_mix  conversion  \\\n",
       "0            -0.817705            -0.610194         -0.591581           0   \n",
       "1            -1.109296            -0.380362         -1.667606           0   \n",
       "2            -0.749227            -2.091521         -0.471386           0   \n",
       "3            -0.966666            -1.785592         -1.268379           1   \n",
       "4            -0.833067            -1.407884         -0.781343           0   \n",
       "\n",
       "   treatment_effect  \n",
       "0                 0  \n",
       "1                 0  \n",
       "2                 0  \n",
       "3                 1  \n",
       "4                 0  \n",
       "\n",
       "[5 rows x 22 columns]"
      ]
     },
     "execution_count": 2,
     "metadata": {},
     "output_type": "execute_result"
    }
   ],
   "source": [
    "df, x_names = make_uplift_classification()\n",
    "df.head()"
   ]
  },
  {
   "cell_type": "code",
   "execution_count": 3,
   "metadata": {},
   "outputs": [],
   "source": [
    "df_train, df_test = train_test_split(df, test_size=0.2, random_state=111)"
   ]
  },
  {
   "cell_type": "markdown",
   "metadata": {},
   "source": [
    "## Original uplift tree model"
   ]
  },
  {
   "cell_type": "code",
   "execution_count": 4,
   "metadata": {},
   "outputs": [],
   "source": [
    "uplift_model = UpliftRandomForestClassifier(control_name='control')"
   ]
  },
  {
   "cell_type": "code",
   "execution_count": 5,
   "metadata": {},
   "outputs": [],
   "source": [
    "uplift_model.fit(df_train[x_names].values,\n",
    "                 treatment=df_train['treatment_group_key'].values,\n",
    "                 y=df_train['conversion'].values)"
   ]
  },
  {
   "cell_type": "code",
   "execution_count": 6,
   "metadata": {},
   "outputs": [],
   "source": [
    "y_pred_bt = uplift_model.predict(df_test[x_names].values)"
   ]
  },
  {
   "cell_type": "code",
   "execution_count": 7,
   "metadata": {},
   "outputs": [],
   "source": [
    "result_bt = pd.DataFrame(y_pred_bt,\n",
    "                      columns=uplift_model.classes_)"
   ]
  },
  {
   "cell_type": "code",
   "execution_count": 8,
   "metadata": {},
   "outputs": [
    {
     "data": {
      "text/html": [
       "<div>\n",
       "<style scoped>\n",
       "    .dataframe tbody tr th:only-of-type {\n",
       "        vertical-align: middle;\n",
       "    }\n",
       "\n",
       "    .dataframe tbody tr th {\n",
       "        vertical-align: top;\n",
       "    }\n",
       "\n",
       "    .dataframe thead th {\n",
       "        text-align: right;\n",
       "    }\n",
       "</style>\n",
       "<table border=\"1\" class=\"dataframe\">\n",
       "  <thead>\n",
       "    <tr style=\"text-align: right;\">\n",
       "      <th></th>\n",
       "      <th>treatment1</th>\n",
       "      <th>treatment2</th>\n",
       "      <th>treatment3</th>\n",
       "    </tr>\n",
       "  </thead>\n",
       "  <tbody>\n",
       "    <tr>\n",
       "      <th>0</th>\n",
       "      <td>-0.052764</td>\n",
       "      <td>0.028867</td>\n",
       "      <td>-0.001406</td>\n",
       "    </tr>\n",
       "    <tr>\n",
       "      <th>1</th>\n",
       "      <td>-0.080074</td>\n",
       "      <td>0.069931</td>\n",
       "      <td>0.049302</td>\n",
       "    </tr>\n",
       "    <tr>\n",
       "      <th>2</th>\n",
       "      <td>-0.023189</td>\n",
       "      <td>0.004354</td>\n",
       "      <td>0.029851</td>\n",
       "    </tr>\n",
       "    <tr>\n",
       "      <th>3</th>\n",
       "      <td>-0.033161</td>\n",
       "      <td>-0.032403</td>\n",
       "      <td>0.345702</td>\n",
       "    </tr>\n",
       "    <tr>\n",
       "      <th>4</th>\n",
       "      <td>0.018984</td>\n",
       "      <td>0.184651</td>\n",
       "      <td>0.202785</td>\n",
       "    </tr>\n",
       "    <tr>\n",
       "      <th>...</th>\n",
       "      <td>...</td>\n",
       "      <td>...</td>\n",
       "      <td>...</td>\n",
       "    </tr>\n",
       "    <tr>\n",
       "      <th>795</th>\n",
       "      <td>0.140050</td>\n",
       "      <td>0.121183</td>\n",
       "      <td>0.240425</td>\n",
       "    </tr>\n",
       "    <tr>\n",
       "      <th>796</th>\n",
       "      <td>-0.034257</td>\n",
       "      <td>0.093015</td>\n",
       "      <td>0.010059</td>\n",
       "    </tr>\n",
       "    <tr>\n",
       "      <th>797</th>\n",
       "      <td>-0.056127</td>\n",
       "      <td>-0.014448</td>\n",
       "      <td>-0.016414</td>\n",
       "    </tr>\n",
       "    <tr>\n",
       "      <th>798</th>\n",
       "      <td>0.030176</td>\n",
       "      <td>0.037918</td>\n",
       "      <td>-0.000783</td>\n",
       "    </tr>\n",
       "    <tr>\n",
       "      <th>799</th>\n",
       "      <td>-0.033822</td>\n",
       "      <td>-0.022368</td>\n",
       "      <td>0.137763</td>\n",
       "    </tr>\n",
       "  </tbody>\n",
       "</table>\n",
       "<p>800 rows × 3 columns</p>\n",
       "</div>"
      ],
      "text/plain": [
       "     treatment1  treatment2  treatment3\n",
       "0     -0.052764    0.028867   -0.001406\n",
       "1     -0.080074    0.069931    0.049302\n",
       "2     -0.023189    0.004354    0.029851\n",
       "3     -0.033161   -0.032403    0.345702\n",
       "4      0.018984    0.184651    0.202785\n",
       "..          ...         ...         ...\n",
       "795    0.140050    0.121183    0.240425\n",
       "796   -0.034257    0.093015    0.010059\n",
       "797   -0.056127   -0.014448   -0.016414\n",
       "798    0.030176    0.037918   -0.000783\n",
       "799   -0.033822   -0.022368    0.137763\n",
       "\n",
       "[800 rows x 3 columns]"
      ]
     },
     "execution_count": 8,
     "metadata": {},
     "output_type": "execute_result"
    }
   ],
   "source": [
    "result_bt"
   ]
  },
  {
   "cell_type": "markdown",
   "metadata": {},
   "source": [
    "## Uplift model equipped with perfect matching"
   ]
  },
  {
   "cell_type": "code",
   "execution_count": 9,
   "metadata": {},
   "outputs": [],
   "source": [
    "pm_uplift = PMUpliftRandomForestClassifier(control_name='control')"
   ]
  },
  {
   "cell_type": "code",
   "execution_count": 10,
   "metadata": {},
   "outputs": [],
   "source": [
    "pm_uplift.fit(df_train[x_names].values,\n",
    "              treatment=df_train['treatment_group_key'].values,\n",
    "              y=df_train['conversion'].values)"
   ]
  },
  {
   "cell_type": "code",
   "execution_count": 11,
   "metadata": {},
   "outputs": [],
   "source": [
    "y_pred_pm = pm_uplift.predict(df_test[x_names].values)"
   ]
  },
  {
   "cell_type": "code",
   "execution_count": 12,
   "metadata": {},
   "outputs": [],
   "source": [
    "result_pm = pd.DataFrame(y_pred_pm,\n",
    "                      columns=uplift_model.classes_)"
   ]
  },
  {
   "cell_type": "code",
   "execution_count": 13,
   "metadata": {},
   "outputs": [
    {
     "data": {
      "text/html": [
       "<div>\n",
       "<style scoped>\n",
       "    .dataframe tbody tr th:only-of-type {\n",
       "        vertical-align: middle;\n",
       "    }\n",
       "\n",
       "    .dataframe tbody tr th {\n",
       "        vertical-align: top;\n",
       "    }\n",
       "\n",
       "    .dataframe thead th {\n",
       "        text-align: right;\n",
       "    }\n",
       "</style>\n",
       "<table border=\"1\" class=\"dataframe\">\n",
       "  <thead>\n",
       "    <tr style=\"text-align: right;\">\n",
       "      <th></th>\n",
       "      <th>treatment1</th>\n",
       "      <th>treatment2</th>\n",
       "      <th>treatment3</th>\n",
       "    </tr>\n",
       "  </thead>\n",
       "  <tbody>\n",
       "    <tr>\n",
       "      <th>0</th>\n",
       "      <td>0.032249</td>\n",
       "      <td>0.017559</td>\n",
       "      <td>0.009804</td>\n",
       "    </tr>\n",
       "    <tr>\n",
       "      <th>1</th>\n",
       "      <td>-0.005060</td>\n",
       "      <td>0.009167</td>\n",
       "      <td>0.036381</td>\n",
       "    </tr>\n",
       "    <tr>\n",
       "      <th>2</th>\n",
       "      <td>0.059629</td>\n",
       "      <td>0.093119</td>\n",
       "      <td>0.012388</td>\n",
       "    </tr>\n",
       "    <tr>\n",
       "      <th>3</th>\n",
       "      <td>0.051269</td>\n",
       "      <td>0.184628</td>\n",
       "      <td>0.216144</td>\n",
       "    </tr>\n",
       "    <tr>\n",
       "      <th>4</th>\n",
       "      <td>0.086869</td>\n",
       "      <td>0.182084</td>\n",
       "      <td>0.241413</td>\n",
       "    </tr>\n",
       "    <tr>\n",
       "      <th>...</th>\n",
       "      <td>...</td>\n",
       "      <td>...</td>\n",
       "      <td>...</td>\n",
       "    </tr>\n",
       "    <tr>\n",
       "      <th>795</th>\n",
       "      <td>0.004387</td>\n",
       "      <td>0.129986</td>\n",
       "      <td>0.245810</td>\n",
       "    </tr>\n",
       "    <tr>\n",
       "      <th>796</th>\n",
       "      <td>-0.030103</td>\n",
       "      <td>0.041780</td>\n",
       "      <td>0.093250</td>\n",
       "    </tr>\n",
       "    <tr>\n",
       "      <th>797</th>\n",
       "      <td>0.020709</td>\n",
       "      <td>0.126031</td>\n",
       "      <td>0.108256</td>\n",
       "    </tr>\n",
       "    <tr>\n",
       "      <th>798</th>\n",
       "      <td>-0.079626</td>\n",
       "      <td>-0.032172</td>\n",
       "      <td>-0.048405</td>\n",
       "    </tr>\n",
       "    <tr>\n",
       "      <th>799</th>\n",
       "      <td>0.015317</td>\n",
       "      <td>0.117095</td>\n",
       "      <td>0.170264</td>\n",
       "    </tr>\n",
       "  </tbody>\n",
       "</table>\n",
       "<p>800 rows × 3 columns</p>\n",
       "</div>"
      ],
      "text/plain": [
       "     treatment1  treatment2  treatment3\n",
       "0      0.032249    0.017559    0.009804\n",
       "1     -0.005060    0.009167    0.036381\n",
       "2      0.059629    0.093119    0.012388\n",
       "3      0.051269    0.184628    0.216144\n",
       "4      0.086869    0.182084    0.241413\n",
       "..          ...         ...         ...\n",
       "795    0.004387    0.129986    0.245810\n",
       "796   -0.030103    0.041780    0.093250\n",
       "797    0.020709    0.126031    0.108256\n",
       "798   -0.079626   -0.032172   -0.048405\n",
       "799    0.015317    0.117095    0.170264\n",
       "\n",
       "[800 rows x 3 columns]"
      ]
     },
     "execution_count": 13,
     "metadata": {},
     "output_type": "execute_result"
    }
   ],
   "source": [
    "result_pm"
   ]
  },
  {
   "cell_type": "markdown",
   "metadata": {},
   "source": [
    "## Uplift Curve"
   ]
  },
  {
   "cell_type": "code",
   "execution_count": 24,
   "metadata": {},
   "outputs": [],
   "source": [
    "from causalml.metrics import plot_gain"
   ]
  },
  {
   "cell_type": "code",
   "execution_count": 17,
   "metadata": {},
   "outputs": [],
   "source": [
    "best_treatment_bt = np.where((result_bt < 0).all(axis=1),\n",
    "                           'control',\n",
    "                           result_bt.idxmax(axis=1))\n",
    "actual_is_best_bt = np.where(df_test['treatment_group_key'] == best_treatment_bt, 1, 0)\n",
    "actual_is_control_bt = np.where(df_test['treatment_group_key'] == 'control', 1, 0)"
   ]
  },
  {
   "cell_type": "code",
   "execution_count": 19,
   "metadata": {},
   "outputs": [],
   "source": [
    "synthetic_bt = (actual_is_best_bt == 1) | (actual_is_control_bt == 1)\n",
    "synth_bt = result_bt[synthetic_bt]"
   ]
  },
  {
   "cell_type": "code",
   "execution_count": 22,
   "metadata": {},
   "outputs": [],
   "source": [
    "auuc_metrics_bt = (synth_bt.assign(is_treated = 1 - actual_is_control_bt[synthetic_bt],\n",
    "                             conversion = df_test.loc[synthetic_bt, 'conversion'].values,\n",
    "                             uplift_tree_bt = synth_bt.max(axis=1))\n",
    "                     .drop(columns=list(uplift_model.classes_)))"
   ]
  },
  {
   "cell_type": "code",
   "execution_count": 25,
   "metadata": {},
   "outputs": [
    {
     "data": {
      "image/png": "[encoded data removed]",
      "text/plain": [
       "<Figure size 576x576 with 1 Axes>"
      ]
     },
     "metadata": {},
     "output_type": "display_data"
    }
   ],
   "source": [
    "plot_gain(auuc_metrics_bt, outcome_col='conversion', treatment_col='is_treated')"
   ]
  },
  {
   "cell_type": "code",
   "execution_count": 27,
   "metadata": {},
   "outputs": [],
   "source": [
    "best_treatment_pm = np.where((result_pm < 0).all(axis=1),\n",
    "                           'control',\n",
    "                           result_bt.idxmax(axis=1))\n",
    "actual_is_best_pm = np.where(df_test['treatment_group_key'] == best_treatment_pm, 1, 0)\n",
    "actual_is_control_pm = np.where(df_test['treatment_group_key'] == 'control', 1, 0)"
   ]
  },
  {
   "cell_type": "code",
   "execution_count": 28,
   "metadata": {},
   "outputs": [],
   "source": [
    "synthetic_pm = (actual_is_best_pm == 1) | (actual_is_control_pm == 1)\n",
    "synth_pm = result_bt[synthetic_pm]"
   ]
  },
  {
   "cell_type": "code",
   "execution_count": 30,
   "metadata": {},
   "outputs": [],
   "source": [
    "auuc_metrics_pm = (synth_pm.assign(is_treated = 1 - actual_is_control_pm[synthetic_pm],\n",
    "                             conversion = df_test.loc[synthetic_pm, 'conversion'].values,\n",
    "                             uplift_tree_pm = synth_pm.max(axis=1))\n",
    "                     .drop(columns=list(pm_uplift.classes_)))"
   ]
  },
  {
   "cell_type": "code",
   "execution_count": 31,
   "metadata": {},
   "outputs": [
    {
     "data": {
      "image/png": "[encoded data removed]",
      "text/plain": [
       "<Figure size 576x576 with 1 Axes>"
      ]
     },
     "metadata": {},
     "output_type": "display_data"
    }
   ],
   "source": [
    "plot_gain(auuc_metrics_pm, outcome_col='conversion', treatment_col='is_treated')"
   ]
  },
  {
   "cell_type": "code",
   "execution_count": null,
   "metadata": {},
   "outputs": [],
   "source": []
  }
 ],
 "metadata": {
  "kernelspec": {
   "display_name": "Python 3",
   "language": "python",
   "name": "python3"
  },
  "language_info": {
   "codemirror_mode": {
    "name": "ipython",
    "version": 3
   },
   "file_extension": ".py",
   "mimetype": "text/x-python",
   "name": "python",
   "nbconvert_exporter": "python",
   "pygments_lexer": "ipython3",
   "version": "3.7.7"
  }
 },
 "nbformat": 4,
 "nbformat_minor": 2
}
